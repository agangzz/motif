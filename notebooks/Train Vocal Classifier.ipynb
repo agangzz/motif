{
 "cells": [
  {
   "cell_type": "markdown",
   "metadata": {},
   "source": [
    "## Setup"
   ]
  },
  {
   "cell_type": "code",
   "execution_count": 1,
   "metadata": {
    "collapsed": false
   },
   "outputs": [
    {
     "name": "stdout",
     "output_type": "stream",
     "text": [
      "/Users/rachelbittner/Dropbox/MARL/repos/motif\n"
     ]
    }
   ],
   "source": [
    "cd ../"
   ]
  },
  {
   "cell_type": "code",
   "execution_count": 2,
   "metadata": {
    "collapsed": false
   },
   "outputs": [],
   "source": [
    "import motif\n",
    "import numpy as np\n",
    "import os\n",
    "import glob\n",
    "import matplotlib.pyplot as plt\n",
    "%matplotlib inline\n",
    "import seaborn as sns\n",
    "sns.set()"
   ]
  },
  {
   "cell_type": "markdown",
   "metadata": {},
   "source": [
    "### Define File Paths"
   ]
  },
  {
   "cell_type": "code",
   "execution_count": 3,
   "metadata": {
    "collapsed": true
   },
   "outputs": [],
   "source": [
    "TRAIN_AUDIO = '/Users/rachelbittner/Documents/VocalAnnotations_MDB/audio/'\n",
    "TRAIN_ANNOT = '/Users/rachelbittner/Documents/VocalAnnotations_MDB/annotations/'\n",
    "TEST_AUDIO = '/Users/rachelbittner/Documents/VocalAnnotations_Tony/audio/'\n",
    "TEST_ANNOT = '/Users/rachelbittner/Documents/VocalAnnotations_Tony/annotations/'"
   ]
  },
  {
   "cell_type": "markdown",
   "metadata": {},
   "source": [
    "### Build file pairs"
   ]
  },
  {
   "cell_type": "code",
   "execution_count": 4,
   "metadata": {
    "collapsed": false
   },
   "outputs": [],
   "source": [
    "train_pairs = []\n",
    "for audio_fpath in glob.glob(os.path.join(TRAIN_AUDIO, '*.wav')):\n",
    "    annot_fpath = os.path.join(TRAIN_ANNOT, os.path.basename(audio_fpath).split('.')[0] + '.csv')\n",
    "    train_pairs.append((audio_fpath, annot_fpath))\n",
    "\n",
    "test_pairs = []\n",
    "for audio_fpath in glob.glob(os.path.join(TEST_AUDIO, '*.wav')):\n",
    "    annot_fpath = os.path.join(TEST_ANNOT, os.path.basename(audio_fpath).split('.')[0] + '.csv')\n",
    "    test_pairs.append((audio_fpath, annot_fpath))\n"
   ]
  },
  {
   "cell_type": "markdown",
   "metadata": {},
   "source": [
    "## Select component types"
   ]
  },
  {
   "cell_type": "code",
   "execution_count": 5,
   "metadata": {
    "collapsed": false
   },
   "outputs": [],
   "source": [
    "contour_extractor = motif.run.get_extract_module('salamon')\n",
    "feature_extractor = motif.run.get_features_module('bitteli')\n",
    "contour_classifier = motif.run.get_classify_module('random_forest')"
   ]
  },
  {
   "cell_type": "markdown",
   "metadata": {},
   "source": [
    "## Build training set & fit classifier"
   ]
  },
  {
   "cell_type": "code",
   "execution_count": 6,
   "metadata": {
    "collapsed": false
   },
   "outputs": [
    {
     "name": "stderr",
     "output_type": "stream",
     "text": [
      "/usr/local/lib/python2.7/site-packages/mir_eval/melody.py:231: UserWarning: Non-uniform timescale passed to resample_melody_series.  Pitch will be linearly interpolated, which will result in undesirable behavior if silences are indicated by missing values.  Silences should be indicated by nonpositive frequency values.\n",
      "  \"Non-uniform timescale passed to resample_melody_series.  Pitch \"\n",
      "/usr/local/lib/python2.7/site-packages/mir_eval/melody.py:77: UserWarning: Reference melody has no voiced frames.\n",
      "  warnings.warn(\"Reference melody has no voiced frames.\")\n",
      "/usr/local/lib/python2.7/site-packages/numpy/polynomial/polynomial.py:1407: RankWarning: The fit may be poorly conditioned\n",
      "  warnings.warn(msg, pu.RankWarning)\n"
     ]
    },
    {
     "name": "stdout",
     "output_type": "stream",
     "text": [
      "Building training set...\n",
      "/Users/rachelbittner/Documents/VocalAnnotations_MDB/audio/AClassicEducation_NightOwl_vocal.wav\n",
      "/Users/rachelbittner/Documents/VocalAnnotations_MDB/audio/AimeeNorwich_Child_vocal.wav\n",
      "/Users/rachelbittner/Documents/VocalAnnotations_MDB/audio/AlexanderRoss_GoodbyeBolero_vocal.wav\n",
      "/Users/rachelbittner/Documents/VocalAnnotations_MDB/audio/AlexanderRoss_VelvetCurtain_vocal.wav\n",
      "/Users/rachelbittner/Documents/VocalAnnotations_MDB/audio/Auctioneer_OurFutureFaces_vocal.wav\n",
      "/Users/rachelbittner/Documents/VocalAnnotations_MDB/audio/AvaLuna_Waterduct_vocal.wav\n",
      "/Users/rachelbittner/Documents/VocalAnnotations_MDB/audio/BigTroubles_Phantom_vocal.wav\n",
      "/Users/rachelbittner/Documents/VocalAnnotations_MDB/audio/BrandonWebster_DontHearAThing_vocal.wav\n",
      "/Users/rachelbittner/Documents/VocalAnnotations_MDB/audio/BrandonWebster_YesSirICanFly_vocal.wav\n",
      "/Users/rachelbittner/Documents/VocalAnnotations_MDB/audio/CelestialShore_DieForUs_vocal.wav\n",
      "/Users/rachelbittner/Documents/VocalAnnotations_MDB/audio/ClaraBerryAndWooldog_AirTraffic_vocal.wav\n",
      "/Users/rachelbittner/Documents/VocalAnnotations_MDB/audio/ClaraBerryAndWooldog_Boys_vocal.wav\n",
      "/Users/rachelbittner/Documents/VocalAnnotations_MDB/audio/ClaraBerryAndWooldog_Stella_vocal.wav\n",
      "/Users/rachelbittner/Documents/VocalAnnotations_MDB/audio/ClaraBerryAndWooldog_TheBadGuys_vocal.wav\n",
      "/Users/rachelbittner/Documents/VocalAnnotations_MDB/audio/ClaraBerryAndWooldog_WaltzForMyVictims_vocal.wav\n",
      "/Users/rachelbittner/Documents/VocalAnnotations_MDB/audio/Creepoid_OldTree_vocal.wav\n",
      "/Users/rachelbittner/Documents/VocalAnnotations_MDB/audio/Debussy_LenfantProdigue_vocal.wav\n",
      "/Users/rachelbittner/Documents/VocalAnnotations_MDB/audio/DreamersOfTheGhetto_HeavyLove_vocal.wav\n",
      "/Users/rachelbittner/Documents/VocalAnnotations_MDB/audio/FacesOnFilm_WaitingForGa_vocal.wav\n",
      "/Users/rachelbittner/Documents/VocalAnnotations_MDB/audio/FamilyBand_Again_vocal.wav\n",
      "/Users/rachelbittner/Documents/VocalAnnotations_MDB/audio/Handel_TornamiAVagheggiar_vocal.wav\n",
      "/Users/rachelbittner/Documents/VocalAnnotations_MDB/audio/HeladoNegro_MitadDelMundo_vocal.wav\n",
      "/Users/rachelbittner/Documents/VocalAnnotations_MDB/audio/HezekiahJones_BorrowedHeart_vocal.wav\n",
      "/Users/rachelbittner/Documents/VocalAnnotations_MDB/audio/HopAlong_SisterCities_vocal.wav\n",
      "/Users/rachelbittner/Documents/VocalAnnotations_MDB/audio/InvisibleFamiliars_DisturbingWildlife_vocal.wav\n",
      "/Users/rachelbittner/Documents/VocalAnnotations_MDB/audio/LizNelson_Coldwar_vocal.wav\n",
      "/Users/rachelbittner/Documents/VocalAnnotations_MDB/audio/LizNelson_ImComingHome_vocal.wav\n",
      "/Users/rachelbittner/Documents/VocalAnnotations_MDB/audio/LizNelson_Rainfall_vocal.wav\n",
      "/Users/rachelbittner/Documents/VocalAnnotations_MDB/audio/MatthewEntwistle_DontYouEver_vocal.wav\n",
      "/Users/rachelbittner/Documents/VocalAnnotations_MDB/audio/MatthewEntwistle_Lontano_vocal.wav\n",
      "/Users/rachelbittner/Documents/VocalAnnotations_MDB/audio/Meaxic_TakeAStep_vocal.wav\n",
      "/Users/rachelbittner/Documents/VocalAnnotations_MDB/audio/Meaxic_YouListen_vocal.wav\n",
      "/Users/rachelbittner/Documents/VocalAnnotations_MDB/audio/Mozart_BesterJungling_vocal.wav\n",
      "/Users/rachelbittner/Documents/VocalAnnotations_MDB/audio/Mozart_DiesBildnis_vocal.wav\n",
      "/Users/rachelbittner/Documents/VocalAnnotations_MDB/audio/MusicDelta_80sRock_vocal.wav\n",
      "/Users/rachelbittner/Documents/VocalAnnotations_MDB/audio/MusicDelta_Beatles_vocal.wav\n",
      "/Users/rachelbittner/Documents/VocalAnnotations_MDB/audio/MusicDelta_Britpop_vocal.wav\n",
      "/Users/rachelbittner/Documents/VocalAnnotations_MDB/audio/MusicDelta_Country1_vocal.wav\n",
      "/Users/rachelbittner/Documents/VocalAnnotations_MDB/audio/MusicDelta_Country2_vocal.wav\n",
      "/Users/rachelbittner/Documents/VocalAnnotations_MDB/audio/MusicDelta_Disco_vocal.wav\n",
      "/Users/rachelbittner/Documents/VocalAnnotations_MDB/audio/MusicDelta_Gospel_vocal.wav\n",
      "/Users/rachelbittner/Documents/VocalAnnotations_MDB/audio/MusicDelta_Grunge_vocal.wav\n",
      "/Users/rachelbittner/Documents/VocalAnnotations_MDB/audio/MusicDelta_Hendrix_vocal.wav\n",
      "/Users/rachelbittner/Documents/VocalAnnotations_MDB/audio/MusicDelta_Punk_vocal.wav\n",
      "/Users/rachelbittner/Documents/VocalAnnotations_MDB/audio/MusicDelta_Reggae_vocal.wav\n",
      "/Users/rachelbittner/Documents/VocalAnnotations_MDB/audio/MusicDelta_Rock_vocal.wav\n",
      "/Users/rachelbittner/Documents/VocalAnnotations_MDB/audio/MusicDelta_Rockabilly_vocal.wav\n",
      "/Users/rachelbittner/Documents/VocalAnnotations_MDB/audio/NightPanther_Fire_vocal.wav\n",
      "/Users/rachelbittner/Documents/VocalAnnotations_MDB/audio/PortStWillow_StayEven_vocal.wav\n",
      "/Users/rachelbittner/Documents/VocalAnnotations_MDB/audio/PurlingHiss_Lolita_vocal.wav\n",
      "/Users/rachelbittner/Documents/VocalAnnotations_MDB/audio/Schubert_Erstarrung_vocal.wav\n",
      "/Users/rachelbittner/Documents/VocalAnnotations_MDB/audio/Schumann_Mignon_vocal.wav\n",
      "/Users/rachelbittner/Documents/VocalAnnotations_MDB/audio/SecretMountains_HighHorse_vocal.wav\n",
      "/Users/rachelbittner/Documents/VocalAnnotations_MDB/audio/Snowmine_Curfews_vocal.wav\n",
      "/Users/rachelbittner/Documents/VocalAnnotations_MDB/audio/StevenClark_Bounty_vocal.wav\n",
      "/Users/rachelbittner/Documents/VocalAnnotations_MDB/audio/StrandOfOaks_Spacestation_vocal.wav\n",
      "/Users/rachelbittner/Documents/VocalAnnotations_MDB/audio/SweetLights_YouLetMeDown_vocal.wav\n",
      "/Users/rachelbittner/Documents/VocalAnnotations_MDB/audio/TheDistricts_Vermont_vocal.wav\n",
      "/Users/rachelbittner/Documents/VocalAnnotations_MDB/audio/TheScarletBrand_LesFleursDuMal_vocal.wav\n",
      "/Users/rachelbittner/Documents/VocalAnnotations_MDB/audio/TheSoSoGlos_Emergency_vocal.wav\n",
      "/Users/rachelbittner/Documents/VocalAnnotations_MDB/audio/Wolf_DieBekherte_vocal.wav\n",
      "Fitting classifier...\n"
     ]
    }
   ],
   "source": [
    "print(\"Building training set...\")\n",
    "X_train, Y_train, train_contours = motif.run.process_with_labels(\n",
    "    contour_extractor, feature_extractor, train_pairs\n",
    ")\n",
    "print(\"Fitting classifier...\")\n",
    "contour_classifier.fit(X_train, Y_train)"
   ]
  },
  {
   "cell_type": "markdown",
   "metadata": {},
   "source": [
    "### Get training set scores"
   ]
  },
  {
   "cell_type": "code",
   "execution_count": 8,
   "metadata": {
    "collapsed": false
   },
   "outputs": [
    {
     "name": "stdout",
     "output_type": "stream",
     "text": [
      "{'f1': array([ 0.98875972,  0.9258247 ]), 'recall': array([ 0.97987858,  0.98472147]), 'support': array([52382,  7396]), 'mcc': 0.91680541515344827, 'precision': array([ 0.99780331,  0.87357563]), 'auc score': 0.99752237169229763, 'confusion matrix': array([[51328,  1054],\n",
      "       [  113,  7283]]), 'accuracy': 0.98047776774064033}\n",
      "RandomForestClassifier(bootstrap=True, class_weight='balanced',\n",
      "            criterion='entropy', max_depth=58, max_features=None,\n",
      "            max_leaf_nodes=None, min_samples_leaf=6, min_samples_split=3,\n",
      "            min_weight_fraction_leaf=0.0, n_estimators=50, n_jobs=-1,\n",
      "            oob_score=False, random_state=None, verbose=0,\n",
      "            warm_start=False)\n"
     ]
    }
   ],
   "source": [
    "Y_pred = contour_classifier.predict(X_train)\n",
    "train_scores = contour_classifier.score(Y_pred, Y_train)\n",
    "print train_scores\n",
    "print contour_classifier.clf"
   ]
  },
  {
   "cell_type": "markdown",
   "metadata": {},
   "source": [
    "### Look at feature importances"
   ]
  },
  {
   "cell_type": "code",
   "execution_count": 45,
   "metadata": {
    "collapsed": false
   },
   "outputs": [
    {
     "data": {
      "image/png": "[encoded data removed]",
      "text/plain": [
       "<matplotlib.figure.Figure at 0x1260d4b10>"
      ]
     },
     "metadata": {},
     "output_type": "display_data"
    }
   ],
   "source": [
    "plt.figure(figsize=(17, 5))\n",
    "x_vals = range(len(contour_classifier.clf.feature_importances_))\n",
    "plt.bar(x_vals, contour_classifier.clf.feature_importances_)\n",
    "plt.xticks([v + 0.4 for v in x_vals], feature_extractor.feature_names, rotation='vertical')\n",
    "plt.savefig('feature_importances.pdf', ext='pdf', bbox_inches='tight')"
   ]
  },
  {
   "cell_type": "markdown",
   "metadata": {},
   "source": [
    "## Build testing set"
   ]
  },
  {
   "cell_type": "code",
   "execution_count": 9,
   "metadata": {
    "collapsed": false
   },
   "outputs": [
    {
     "name": "stdout",
     "output_type": "stream",
     "text": [
      "/Users/rachelbittner/Documents/VocalAnnotations_Tony/audio/Australia_FW04439_104.wav\n",
      "/Users/rachelbittner/Documents/VocalAnnotations_Tony/audio/Australia_FW04439_105.wav\n",
      "/Users/rachelbittner/Documents/VocalAnnotations_Tony/audio/Australia_SFW40430_107.wav\n",
      "/Users/rachelbittner/Documents/VocalAnnotations_Tony/audio/Brazil_FW04458_110.wav\n",
      "/Users/rachelbittner/Documents/VocalAnnotations_Tony/audio/Canada_FW06929_201.wav\n",
      "/Users/rachelbittner/Documents/VocalAnnotations_Tony/audio/Canada_FW06929_205.wav\n",
      "/Users/rachelbittner/Documents/VocalAnnotations_Tony/audio/Canada_FW08771_108.wav\n",
      "/Users/rachelbittner/Documents/VocalAnnotations_Tony/audio/China_FW08880_105.wav\n",
      "/Users/rachelbittner/Documents/VocalAnnotations_Tony/audio/China_FW08882_102.wav\n",
      "/Users/rachelbittner/Documents/VocalAnnotations_Tony/audio/China_FW08882_105.wav\n",
      "/Users/rachelbittner/Documents/VocalAnnotations_Tony/audio/Cuba_SFW40461_103.wav\n",
      "/Users/rachelbittner/Documents/VocalAnnotations_Tony/audio/India_ARCE00005_106.wav\n",
      "/Users/rachelbittner/Documents/VocalAnnotations_Tony/audio/India_ARCE00010_112.wav\n",
      "/Users/rachelbittner/Documents/VocalAnnotations_Tony/audio/India_ARCE00039_105.wav\n",
      "/Users/rachelbittner/Documents/VocalAnnotations_Tony/audio/Japan_FW04534_117.wav\n",
      "/Users/rachelbittner/Documents/VocalAnnotations_Tony/audio/Japan_FW04534_205.wav\n",
      "/Users/rachelbittner/Documents/VocalAnnotations_Tony/audio/Japan_FW04534_206.wav\n",
      "/Users/rachelbittner/Documents/VocalAnnotations_Tony/audio/Japan_FW04534_214.wav\n",
      "/Users/rachelbittner/Documents/VocalAnnotations_Tony/audio/Kenya_ILAMTR160_101.wav\n",
      "/Users/rachelbittner/Documents/VocalAnnotations_Tony/audio/Kenya_ILAMTR160_103.wav\n",
      "/Users/rachelbittner/Documents/VocalAnnotations_Tony/audio/Kenya_ILAMTR162A_101.wav\n",
      "/Users/rachelbittner/Documents/VocalAnnotations_Tony/audio/Kenya_ILAMTR162A_102.wav\n",
      "/Users/rachelbittner/Documents/VocalAnnotations_Tony/audio/Macedonia_MON71496_109.wav\n",
      "/Users/rachelbittner/Documents/VocalAnnotations_Tony/audio/Malawi_ILAMTR099A_102.wav\n",
      "/Users/rachelbittner/Documents/VocalAnnotations_Tony/audio/Malaysia_SFW40417_102.wav\n",
      "/Users/rachelbittner/Documents/VocalAnnotations_Tony/audio/Philippines_FW04466_124.wav\n",
      "/Users/rachelbittner/Documents/VocalAnnotations_Tony/audio/Philippines_FW04536_201.wav\n",
      "/Users/rachelbittner/Documents/VocalAnnotations_Tony/audio/Russia_MON00765_105.wav\n",
      "/Users/rachelbittner/Documents/VocalAnnotations_Tony/audio/Russia_MON00765_109.wav\n",
      "/Users/rachelbittner/Documents/VocalAnnotations_Tony/audio/Russia_MON71565_127.wav\n",
      "/Users/rachelbittner/Documents/VocalAnnotations_Tony/audio/Russia_SFW40017_111.wav\n"
     ]
    }
   ],
   "source": [
    "X_test, Y_test, test_contours = motif.run.process_with_labels(\n",
    "    contour_extractor, feature_extractor, test_pairs\n",
    ")"
   ]
  },
  {
   "cell_type": "markdown",
   "metadata": {},
   "source": [
    "### Predict Labels & Get Testing Score"
   ]
  },
  {
   "cell_type": "code",
   "execution_count": 10,
   "metadata": {
    "collapsed": false
   },
   "outputs": [
    {
     "name": "stdout",
     "output_type": "stream",
     "text": [
      "{'f1': array([ 0.90304237,  0.57428215]), 'recall': array([ 0.88344924,  0.6362379 ]), 'support': array([3595,  723]), 'mcc': 0.48189235281992543, 'precision': array([ 0.92352428,  0.52332196]), 'auc score': 0.85879169816692547, 'confusion matrix': array([[3176,  419],\n",
      "       [ 263,  460]]), 'accuracy': 0.84205650764242701}\n"
     ]
    }
   ],
   "source": [
    "Y_pred = contour_classifier.predict(X_test)\n",
    "test_scores = contour_classifier.score(Y_pred, Y_test)\n",
    "print test_scores"
   ]
  },
  {
   "cell_type": "markdown",
   "metadata": {},
   "source": [
    "## Predict on new set"
   ]
  },
  {
   "cell_type": "code",
   "execution_count": 46,
   "metadata": {
    "collapsed": true
   },
   "outputs": [],
   "source": [
    "WORLDMUSIC_DIR = '/Users/rachelbittner/Documents/WorldMusicSet'\n",
    "prediction_set = glob.glob(os.path.join(WORLDMUSIC_DIR, 'audio', '*.wav'))\n",
    "contour_output_dir = os.path.join(WORLDMUSIC_DIR, 'contours')"
   ]
  },
  {
   "cell_type": "code",
   "execution_count": null,
   "metadata": {
    "collapsed": false
   },
   "outputs": [
    {
     "name": "stdout",
     "output_type": "stream",
     "text": [
      "Argentina_FW04175_311\n",
      "    --> already done!\n",
      "Argentina_FW04176_101\n",
      "    --> already done!\n",
      "Argentina_FW04176_102\n",
      "    --> already done!\n",
      "Argentina_FW04176_104\n",
      "    --> already done!\n",
      "Argentina_FW04176_201\n",
      "    --> already done!\n",
      "Argentina_FW04176_202\n",
      "    --> already done!\n",
      "Argentina_FW04176_206\n",
      "    --> already done!\n",
      "Argentina_FW04176_306\n",
      "    --> already done!\n",
      "Argentina_FW04176_401\n",
      "    --> already done!\n",
      "Argentina_FW04176_403\n",
      "    --> already done!\n",
      "Argentina_FW04176_404\n",
      "    --> already done!\n",
      "Argentina_FW04179_106\n",
      "    --> already done!\n",
      "Argentina_FW04179_110\n",
      "    --> already done!\n",
      "Argentina_FW04179_111\n",
      "    --> already done!\n",
      "Argentina_FW04179_112\n",
      "    --> already done!\n",
      "Argentina_FW04179_113\n",
      "    --> already done!\n",
      "Argentina_FW04179_115\n",
      "    --> already done!\n",
      "Argentina_FW04179_117\n",
      "    --> already done!\n",
      "Argentina_FW04179_119\n",
      "    --> already done!\n",
      "Argentina_FW04179_122\n",
      "    --> already done!\n",
      "Argentina_FW04179_124\n",
      "    --> already done!\n",
      "Argentina_FW04179_125\n",
      "    --> already done!\n",
      "Argentina_FW04179_129\n",
      "    --> already done!\n",
      "Argentina_FW04179_130\n",
      "    --> already done!\n",
      "Argentina_FW04179_132\n",
      "    --> done!\n",
      "Argentina_FW04179_135\n",
      "    --> done!\n",
      "Argentina_FW04179_136\n",
      "    --> done!\n",
      "Argentina_FW04179_137\n",
      "    --> already done!\n",
      "Argentina_FW04179_138\n",
      "    --> done!\n",
      "Argentina_FW04179_140\n",
      "    --> already done!\n",
      "Argentina_FW04542_407\n",
      "    --> done!\n",
      "Argentina_MON00809_102\n",
      "    --> done!\n",
      "Argentina_MON00809_104\n",
      "    --> done!\n",
      "Argentina_MON00809_105\n",
      "    --> done!\n",
      "Argentina_MON00809_205\n",
      "    --> done!\n",
      "Argentina_PAR01016_101\n",
      "    --> already done!\n",
      "Argentina_PAR01016_102\n",
      "    --> done!\n",
      "Argentina_PAR01016_104\n",
      "    --> already done!\n",
      "Argentina_PAR01016_105\n",
      "    --> already done!\n",
      "Argentina_PAR01016_107\n",
      "    --> already done!\n",
      "Argentina_PAR01016_203\n",
      "    --> already done!\n",
      "Argentina_PAR01016_206\n",
      "    --> done!\n",
      "Argentina_SFW40470_102\n",
      "    --> already done!\n",
      "Argentina_SFW40532_101\n",
      "    --> already done!\n",
      "Argentina_SFW40532_102\n",
      "    --> already done!\n",
      "Argentina_SFW40532_105\n",
      "    --> done!\n",
      "Argentina_SFW40532_106\n",
      "    --> already done!\n",
      "Argentina_SFW40532_107\n",
      "    --> done!\n",
      "Argentina_SFW40532_108\n",
      "    --> done!\n",
      "Argentina_SFW40532_109\n",
      "    --> already done!\n",
      "Argentina_SFW45055_105\n",
      "    --> done!"
     ]
    }
   ],
   "source": [
    "for audio_filepath in prediction_set:\n",
    "    save_name = os.path.basename(audio_filepath).split('.')[0]\n",
    "    save_path = os.path.join(contour_output_dir, \"{}.csv\".format(save_name))\n",
    "    print(save_name)\n",
    "    if not os.path.exists(save_path):\n",
    "        ctr = contour_extractor.compute_contours(audio_filepath)\n",
    "\n",
    "        X = feature_extractor.compute_all(ctr)\n",
    "        Y = contour_classifier.predict(X)\n",
    "\n",
    "        save_nums = [n for n in ctr.nums if Y[n] >= contour_classifier.threshold]\n",
    "        ctr.save_contours_subset(save_path, save_nums)\n",
    "        print(\"    --> done!\")\n",
    "    else:\n",
    "        print(\"    --> already done!\")"
   ]
  },
  {
   "cell_type": "markdown",
   "metadata": {},
   "source": [
    "# Tinkering with coverage of different contour_extractors"
   ]
  },
  {
   "cell_type": "code",
   "execution_count": null,
   "metadata": {
    "collapsed": false
   },
   "outputs": [],
   "source": [
    "contour_extractor = motif.run.get_extract_module('salamon')\n",
    "salamon_recall = {}\n",
    "for audio_filepath, annotation in test_pairs:\n",
    "    print audio_filepath\n",
    "    ctr = contour_extractor.compute_contours(audio_filepath)\n",
    "    coverage_score = ctr.coverage(annotation)\n",
    "    salamon_recall[audio_filepath] = coverage_score['Recall']\n",
    "    Y_train, _ = ctr.compute_labels(annotation)\n",
    "    X_train = feature_extractor.compute_all(ctr)\n",
    "print salamon_recall"
   ]
  },
  {
   "cell_type": "code",
   "execution_count": null,
   "metadata": {
    "collapsed": false
   },
   "outputs": [],
   "source": [
    "contour_extractor = motif.run.get_extract_module('hll')\n",
    "hll_recall = {}\n",
    "for audio_filepath, annotation in test_pairs:\n",
    "    print audio_filepath\n",
    "    ctr = contour_extractor.compute_contours(audio_filepath)\n",
    "    ctr.plot()\n",
    "    ctr.plot_with_annotation(annotation)\n",
    "    coverage_score = ctr.coverage(annotation)\n",
    "    hll_recall[audio_filepath] = coverage_score['Recall']\n",
    "#     print coverage_score['Chroma Recall']\n",
    "print hll_recall"
   ]
  },
  {
   "cell_type": "code",
   "execution_count": null,
   "metadata": {
    "collapsed": false
   },
   "outputs": [],
   "source": [
    "print(np.mean(salamon_recall.values()))\n",
    "print(np.std(salamon_recall.values()))\n",
    "print \"\"\n",
    "print(np.mean(hll_recall.values()))\n",
    "print(np.std(hll_recall.values()))"
   ]
  },
  {
   "cell_type": "code",
   "execution_count": null,
   "metadata": {
    "collapsed": true
   },
   "outputs": [],
   "source": []
  },
  {
   "cell_type": "code",
   "execution_count": null,
   "metadata": {
    "collapsed": true
   },
   "outputs": [],
   "source": []
  },
  {
   "cell_type": "code",
   "execution_count": null,
   "metadata": {
    "collapsed": true
   },
   "outputs": [],
   "source": []
  },
  {
   "cell_type": "code",
   "execution_count": null,
   "metadata": {
    "collapsed": true
   },
   "outputs": [],
   "source": []
  },
  {
   "cell_type": "code",
   "execution_count": null,
   "metadata": {
    "collapsed": true
   },
   "outputs": [],
   "source": []
  },
  {
   "cell_type": "code",
   "execution_count": null,
   "metadata": {
    "collapsed": true
   },
   "outputs": [],
   "source": []
  },
  {
   "cell_type": "code",
   "execution_count": null,
   "metadata": {
    "collapsed": true
   },
   "outputs": [],
   "source": []
  }
 ],
 "metadata": {
  "kernelspec": {
   "display_name": "Python 2",
   "language": "python",
   "name": "python2"
  },
  "language_info": {
   "codemirror_mode": {
    "name": "ipython",
    "version": 2
   },
   "file_extension": ".py",
   "mimetype": "text/x-python",
   "name": "python",
   "nbconvert_exporter": "python",
   "pygments_lexer": "ipython2",
   "version": "2.7.12"
  }
 },
 "nbformat": 4,
 "nbformat_minor": 0
}
