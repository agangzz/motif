{
 "cells": [
  {
   "cell_type": "code",
   "execution_count": 2,
   "metadata": {
    "collapsed": false
   },
   "outputs": [
    {
     "name": "stdout",
     "output_type": "stream",
     "text": [
      "/Users/rachelbittner/Dropbox/MARL/repos/motif\n"
     ]
    }
   ],
   "source": [
    "cd ../"
   ]
  },
  {
   "cell_type": "code",
   "execution_count": 3,
   "metadata": {
    "collapsed": true
   },
   "outputs": [],
   "source": [
    "import motif\n",
    "import os\n",
    "import tempfile as tmp\n",
    "import matplotlib.pyplot as plt\n",
    "%matplotlib inline\n",
    "import seaborn as sns\n",
    "sns.set()"
   ]
  },
  {
   "cell_type": "markdown",
   "metadata": {},
   "source": [
    "# Make Ground Truth Seeds"
   ]
  },
  {
   "cell_type": "code",
   "execution_count": 4,
   "metadata": {
    "collapsed": true
   },
   "outputs": [],
   "source": [
    "import medleydb as mdb\n",
    "import numpy as np\n",
    "import mir_eval\n",
    "import csv"
   ]
  },
  {
   "cell_type": "code",
   "execution_count": 12,
   "metadata": {
    "collapsed": true
   },
   "outputs": [],
   "source": [
    "mtracks = mdb.load_melody_multitracks()"
   ]
  },
  {
   "cell_type": "code",
   "execution_count": null,
   "metadata": {
    "collapsed": false
   },
   "outputs": [],
   "source": [
    "def get_ground_truth_seeds(mtrack):\n",
    "    sns.set_style(\"dark\")\n",
    "    print mtrack.track_id\n",
    "    mtrack.load_melody_annotations()\n",
    "    data = np.array(mtrack.melody3_annotation)\n",
    "    mel3 = data[:, 1:]\n",
    "    times = data[:, 0]\n",
    "    n_times, n_mels = mel3.shape\n",
    "\n",
    "    c_index = []\n",
    "    c_times = []\n",
    "    c_freqs = []\n",
    "\n",
    "    seeds = []\n",
    "    idx = 0\n",
    "    plt.figure()\n",
    "    for mel_num in range(n_mels):\n",
    "        nonzero = mel3[:, mel_num] > 0\n",
    "        nonzero_diff = np.diff(nonzero.astype(int))\n",
    "\n",
    "        contour_starts = list(np.where(nonzero_diff == 1)[0] + 1)\n",
    "        contour_ends = list(np.where(nonzero_diff == -1)[0] + 1)\n",
    "\n",
    "        if contour_ends[0] < contour_starts[0]:\n",
    "            contour_starts.insert(0, 0)\n",
    "\n",
    "        if len(contour_ends) < len(contour_starts):\n",
    "            contour_ends.append(len(nonzero_diff))\n",
    "\n",
    "        for s, e in zip(contour_starts, contour_ends):\n",
    "\n",
    "            t = times[s:e]\n",
    "            f = mel3[s:e, mel_num]\n",
    "\n",
    "            contour_diff = np.abs(np.diff(mir_eval.melody.hz2cents(f)))\n",
    "\n",
    "            splits = list(np.where(contour_diff > 50)[0] + 1)\n",
    "\n",
    "            if len(splits) > 0:\n",
    "                if splits[-1] == len(contour_diff):\n",
    "                    splits = splits[:-1]\n",
    "                split_starts = [0] + splits\n",
    "                split_ends = splits + [len(t) - 1]\n",
    "\n",
    "                for ss, se in zip(split_starts, split_ends):\n",
    "\n",
    "                    tt = t[ss:se]\n",
    "                    ii = idx * np.ones(tt.shape)\n",
    "                    idx += 1\n",
    "                    ff = f[ss:se]\n",
    "                    c_index.append(ii)\n",
    "                    c_times.append(tt)\n",
    "                    c_freqs.append(ff)\n",
    "                    seed_idx = int(round(len(tt)/2))\n",
    "                    seeds.append([int(round(44100*tt[seed_idx])), ff[seed_idx]])\n",
    "                    plt.plot(tt, ff)\n",
    "            else:\n",
    "                i = idx * np.ones(t.shape)\n",
    "                idx += 1\n",
    "                c_index.append(i)\n",
    "                c_times.append(t)\n",
    "                c_freqs.append(f)\n",
    "                seed_idx = int(round(len(t)/2))\n",
    "                seeds.append([int(round(44100*t[seed_idx])), f[seed_idx]])\n",
    "                plt.plot(t, f)\n",
    "\n",
    "    plt.tick_params(axis='x', which='both', bottom='off', top='off', labelbottom='off')\n",
    "    plt.tick_params(axis='y', which='both', bottom='off', top='off', labelleft='off' )\n",
    "#     plt.show()\n",
    "    return seeds, c_index, c_times, c_freqs"
   ]
  },
  {
   "cell_type": "code",
   "execution_count": 13,
   "metadata": {
    "collapsed": false
   },
   "outputs": [],
   "source": [
    "track_ids = []\n",
    "for mtrack in mtracks:\n",
    "\n",
    "#     output_path = '/Users/rachelbittner/Documents/HLL_Data/mdb_seeds_mel3/{}_gt_seeds.csv'.format(mtrack.track_id)\n",
    "#     if os.path.exists(output_path):\n",
    "#         continue\n",
    "\n",
    "    track_ids.append(mtrack.track_id)\n",
    "#     seeds, _, _, _ = get_ground_truth_seeds(mtrack)\n",
    "#     plt.savefig('/Users/rachelbittner/Desktop/contour_art/{}.pdf'.format(mtrack.track_id))\n",
    "#     with open(output_path, 'w') as fhandle:\n",
    "#         writer = csv.writer(fhandle, delimiter=',')\n",
    "#         writer.writerows(seeds)\n"
   ]
  },
  {
   "cell_type": "code",
   "execution_count": null,
   "metadata": {
    "collapsed": false
   },
   "outputs": [],
   "source": [
    "track_ids"
   ]
  },
  {
   "cell_type": "markdown",
   "metadata": {},
   "source": [
    "# HLL Parameter Search"
   ]
  },
  {
   "cell_type": "code",
   "execution_count": 16,
   "metadata": {
    "collapsed": true
   },
   "outputs": [],
   "source": [
    "import random\n",
    "import glob"
   ]
  },
  {
   "cell_type": "code",
   "execution_count": 6,
   "metadata": {
    "collapsed": false
   },
   "outputs": [],
   "source": [
    "def parametrize_hll():\n",
    "    etr = motif.contour_extractors.hll.HLL()\n",
    "    etr.n_harmonics = random.choice([1, 2, 3, 4, 5, 6])\n",
    "    etr.f_cutoff = 30\n",
    "    etr.tracking_gain = random.choice([8e-5, 1e-4, 3e-4, 5e-4, 8e-4, 1e-3, 2e-3, 3e-3, 5e-3])\n",
    "    etr.min_contour_len_samples = random.choice(\n",
    "        [0, 10, 441, 2205, 4410, 11025, 22050, 44100, 88200, 132300, 176400, 220500, 441000]\n",
    "    )\n",
    "    etr.amplitude_threshold = np.random.uniform(0, 1)\n",
    "    etr.tracking_update_threshold = np.random.uniform(0, 500)\n",
    "    \n",
    "    return etr"
   ]
  },
  {
   "cell_type": "code",
   "execution_count": 7,
   "metadata": {
    "collapsed": true
   },
   "outputs": [],
   "source": [
    "def load_melody3_multif0(fpath):\n",
    "    times = []\n",
    "    freqs = []\n",
    "    with open(fpath, 'r') as fhandle:\n",
    "        reader = csv.reader(fhandle, delimiter=',')\n",
    "        for line in reader:\n",
    "            times.append(float(line[0]))\n",
    "            f = np.array(line[1:], dtype=float)\n",
    "            f = f[f > 0]\n",
    "            freqs.append(f)\n",
    "    return np.array(times), freqs"
   ]
  },
  {
   "cell_type": "code",
   "execution_count": 8,
   "metadata": {
    "collapsed": false
   },
   "outputs": [],
   "source": [
    "def run_hll(etr, audio_filepath, seed_fpath):\n",
    "    tmp_audio = etr._preprocess_audio(\n",
    "        audio_filepath, normalize_format=True, normalize_volume=True\n",
    "    )\n",
    "\n",
    "    contours_fpath = tmp.mktemp('.csv')\n",
    "\n",
    "    args = [\n",
    "        \"hll\",\n",
    "        \"{}\".format(tmp_audio),\n",
    "        \"{}\".format(seed_fpath),\n",
    "        \"{}\".format(contours_fpath),\n",
    "        \"{}\".format(etr.n_harmonics),\n",
    "        \"{}\".format(etr.f_cutoff),\n",
    "        \"{}\".format(etr.tracking_gain),\n",
    "        \"{}\".format(etr.min_contour_len_samples),\n",
    "        \"{}\".format(etr.amplitude_threshold),\n",
    "        \"{}\".format(etr.tracking_update_threshold)\n",
    "    ]\n",
    "\n",
    "    os.system(' '.join(args))\n",
    "\n",
    "    if not os.path.exists(contours_fpath):\n",
    "        raise IOError(\n",
    "            \"Unable to find HLL output file {}\".format(contours_fpath)\n",
    "        )\n",
    "\n",
    "    c_numbers, c_times, c_freqs, c_sal = etr._load_contours(contours_fpath)\n",
    "\n",
    "    os.remove(contours_fpath)\n",
    "    os.remove(tmp_audio)\n",
    "\n",
    "    return motif.core.Contours(\n",
    "        c_numbers, c_times, c_freqs, c_sal, etr.sample_rate, audio_filepath\n",
    "    )"
   ]
  },
  {
   "cell_type": "code",
   "execution_count": 17,
   "metadata": {
    "collapsed": false
   },
   "outputs": [],
   "source": [
    "SEED_PATH = '/Users/rachelbittner/Documents/HLL_Data/mdb_seeds_mel3/'\n",
    "AUDIO_PATH = '/Datasets/MedleyDB_Mixes/'\n",
    "ANNOT_PATH = '/Users/rachelbittner/Dropbox/MARL/repos/medleydb/Annotations/'\n",
    "# file_triples = [\n",
    "#     ('/Datasets/MedleyDB_Mixes/MusicDelta_80sRock_MIX.wav',\n",
    "#      '/Users/rachelbittner/Documents/HLL_Data/mdb_seeds_mel3/MusicDelta_80sRock_gt_seeds.csv',\n",
    "#      '/Users/rachelbittner/Dropbox/MARL/repos/medleydb/Annotations/MusicDelta_80sRock_ANNOTATIONS/MusicDelta_80sRock_MELODY3.csv'\n",
    "#     )\n",
    "# ]\n",
    "\n",
    "grid_search_trackids = np.random.choice(track_ids, 10)\n",
    "file_triples = []\n",
    "for tid in grid_search_trackids:\n",
    "    audio_file = os.path.join(AUDIO_PATH, '{}_MIX.wav'.format(tid))\n",
    "    seed_file = os.path.join(SEED_PATH, '{}_gt_seeds.csv'.format(tid))\n",
    "    annot_file = os.path.join(ANNOT_PATH, '{}_ANNOTATIONS'.format(tid), '{}_MELODY3.csv'.format(tid))\n",
    "    file_triples.append((audio_file, seed_file, annot_file))"
   ]
  },
  {
   "cell_type": "code",
   "execution_count": null,
   "metadata": {
    "collapsed": false
   },
   "outputs": [],
   "source": [
    "grid_scores = []\n",
    "n_iter = 5\n",
    "for i in range(n_iter):\n",
    "    print(\"running iteration {}\".format(i))\n",
    "\n",
    "    etr = parametrize_hll()\n",
    "    this_grid_score = {}\n",
    "    this_grid_score['params'] = {\n",
    "        'n_harmonics': etr.n_harmonics,\n",
    "        'f_cutoff': etr.f_cutoff,\n",
    "        'tracking_gain': etr.tracking_gain,\n",
    "        'min_contour_len_samples': etr.min_contour_len_samples,\n",
    "        'amplitude_threshold': etr.amplitude_threshold,\n",
    "        'tracking_update_threshold': etr.tracking_update_threshold\n",
    "    }\n",
    "\n",
    "    recall = []\n",
    "    precision = []\n",
    "    accuracy = []\n",
    "    for audio_file, seed_file, annot_file in file_triples[:1]:\n",
    "        print(\"    {}\".format(os.path.basename(audio_file)))\n",
    "\n",
    "        ctr = run_hll(etr, audio_file, seed_file)\n",
    "        est_time, est_freqs = ctr.to_multif0_format()\n",
    "        ref_time, ref_freqs = load_melody3_multif0(annot_file)\n",
    "\n",
    "        scores = mir_eval.multipitch.evaluate(np.array(ref_time), ref_freqs, np.array(est_time), est_freqs)\n",
    "        recall.append(scores['Recall'])\n",
    "        precision.append(scores['Precision'])\n",
    "        accuracy.append(scores['Accuracy'])\n",
    "\n",
    "    this_grid_score['recall'] = np.array(recall)\n",
    "    this_grid_score['precision'] = np.array(precision)\n",
    "    this_grid_score['accuracy'] = np.array(accuracy)\n",
    "    grid_scores.append(this_grid_score)"
   ]
  },
  {
   "cell_type": "code",
   "execution_count": 11,
   "metadata": {
    "collapsed": false
   },
   "outputs": [
    {
     "data": {
      "text/plain": [
       "{0: {'accuracy': array([ 0.08835979]),\n",
       "  'params': {'amplitude_threshold': 0.11831388360162332,\n",
       "   'f_cutoff': 30,\n",
       "   'min_contour_len_samples': 88200,\n",
       "   'n_harmonics': 4,\n",
       "   'tracking_gain': 0.002,\n",
       "   'tracking_update_threshold': 103.0641405893779},\n",
       "  'precision': array([ 0.08893228]),\n",
       "  'recall': array([ 0.93209302])},\n",
       " 1: {'accuracy': array([ 0.]),\n",
       "  'params': {'amplitude_threshold': 0.9399637981238619,\n",
       "   'f_cutoff': 30,\n",
       "   'min_contour_len_samples': 0,\n",
       "   'n_harmonics': 2,\n",
       "   'tracking_gain': 0.0001,\n",
       "   'tracking_update_threshold': 129.91276045650818},\n",
       "  'precision': array([ 0.]),\n",
       "  'recall': array([ 0.])},\n",
       " 2: {'accuracy': array([ 0.24496778]),\n",
       "  'params': {'amplitude_threshold': 0.3438473278239499,\n",
       "   'f_cutoff': 30,\n",
       "   'min_contour_len_samples': 22050,\n",
       "   'n_harmonics': 1,\n",
       "   'tracking_gain': 8e-05,\n",
       "   'tracking_update_threshold': 40.11279095864301},\n",
       "  'precision': array([ 0.27132534]),\n",
       "  'recall': array([ 0.71604651])},\n",
       " 3: {'accuracy': array([ 0.02125088]),\n",
       "  'params': {'amplitude_threshold': 0.9625286204853242,\n",
       "   'f_cutoff': 30,\n",
       "   'min_contour_len_samples': 441000,\n",
       "   'n_harmonics': 2,\n",
       "   'tracking_gain': 0.002,\n",
       "   'tracking_update_threshold': 138.44558287953924},\n",
       "  'precision': array([ 0.02128166]),\n",
       "  'recall': array([ 0.93627907])},\n",
       " 4: {'accuracy': array([ 0.13114063]),\n",
       "  'params': {'amplitude_threshold': 0.9788108576814565,\n",
       "   'f_cutoff': 30,\n",
       "   'min_contour_len_samples': 2205,\n",
       "   'n_harmonics': 6,\n",
       "   'tracking_gain': 0.0005,\n",
       "   'tracking_update_threshold': 425.60307577064503},\n",
       "  'precision': array([ 0.58403756]),\n",
       "  'recall': array([ 0.14465116])}}"
      ]
     },
     "execution_count": 11,
     "metadata": {},
     "output_type": "execute_result"
    }
   ],
   "source": [
    "grid_scores"
   ]
  },
  {
   "cell_type": "code",
   "execution_count": 15,
   "metadata": {
    "collapsed": true
   },
   "outputs": [],
   "source": [
    "np.random.choice?"
   ]
  },
  {
   "cell_type": "code",
   "execution_count": null,
   "metadata": {
    "collapsed": true
   },
   "outputs": [],
   "source": []
  },
  {
   "cell_type": "code",
   "execution_count": null,
   "metadata": {
    "collapsed": true
   },
   "outputs": [],
   "source": []
  },
  {
   "cell_type": "code",
   "execution_count": null,
   "metadata": {
    "collapsed": true
   },
   "outputs": [],
   "source": []
  },
  {
   "cell_type": "code",
   "execution_count": null,
   "metadata": {
    "collapsed": true
   },
   "outputs": [],
   "source": []
  },
  {
   "cell_type": "code",
   "execution_count": null,
   "metadata": {
    "collapsed": true
   },
   "outputs": [],
   "source": []
  }
 ],
 "metadata": {
  "kernelspec": {
   "display_name": "Python 2",
   "language": "python",
   "name": "python2"
  },
  "language_info": {
   "codemirror_mode": {
    "name": "ipython",
    "version": 2
   },
   "file_extension": ".py",
   "mimetype": "text/x-python",
   "name": "python",
   "nbconvert_exporter": "python",
   "pygments_lexer": "ipython2",
   "version": "2.7.12"
  }
 },
 "nbformat": 4,
 "nbformat_minor": 0
}
